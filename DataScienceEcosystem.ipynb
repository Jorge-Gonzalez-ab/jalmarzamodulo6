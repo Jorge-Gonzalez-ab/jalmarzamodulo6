{
 "cells": [
  {
   "cell_type": "markdown",
   "id": "b84b61d4-7d4d-4280-abb0-08a07692d40e",
   "metadata": {},
   "source": [
    "# Data Science Tools and Ecosystem"
   ]
  },
  {
   "cell_type": "markdown",
   "id": "cc10f04f-f051-470e-8bd1-497856da3dfe",
   "metadata": {},
   "source": [
    "In this notebook, Data Science Tools and Ecosystem are summarized."
   ]
  },
  {
   "cell_type": "markdown",
   "id": "2602ac1b-978d-4357-81f0-63a5f8e216fd",
   "metadata": {},
   "source": [
    "**Objetivos:**\n",
    "\n",
    "- Crear un cuaderno Jupyter con markdown y celdas de codigo.\r\n",
    "- Enumerar ejemplos de lenguajes,bibliotecas  y herramientas utilizados en la Ciencia de Datos.\r\n",
    "- Comparta su cuaderno Jupyter publicamente en GitHub.\r\n",
    "- Evalue los cuadernos enviados por sus compañeros utilizando la rubrica proporcionada.\r\n",
    "- Demuestre su competencia en el conocimiento conjunto de herramients de Ciencia de Datos  t.\r\n",
    "\n",
    "\n",
    "de Datos"
   ]
  },
  {
   "cell_type": "markdown",
   "id": "ecab6290-314b-4b81-9d0a-b227913b9b1d",
   "metadata": {},
   "source": [
    "Some of the popular languages that Data Scientist use are:\n",
    "1. Python\n",
    "2. R\n",
    "3. Julia\n",
    "4. SQL\n",
    "5. Scala\n"
   ]
  },
  {
   "cell_type": "markdown",
   "id": "20b9182d-4af6-4ce1-bc19-66b343bba84e",
   "metadata": {},
   "source": [
    "Some of the commonly used libraries used by Data Scientist include:\n",
    "1. Pandas\n",
    "2. Numpy\n",
    "3. Dask\n",
    "4. dplyr\n",
    "5. ggplot2\n",
    "6. Scikit-learn\n"
   ]
  },
  {
   "cell_type": "markdown",
   "id": "b6803ce4-ec4d-44f0-8aaa-da63bd6b5339",
   "metadata": {},
   "source": [
    "| Nombre              | \r\n",
    "|---------------------|\r\n",
    "Jupyter Notebooks     | RStudio             | | Spyder              |\n",
    "| GoogleColab         |\n",
    "| Kaggle              |\n",
    "| Microsoft Azure     |  |\r\n"
   ]
  },
  {
   "cell_type": "markdown",
   "id": "6401a325-aa6d-4b5d-abce-8846d26319a9",
   "metadata": {},
   "source": [
    "### Below are a few examples of evaluating arithmetic expressions in Python"
   ]
  },
  {
   "cell_type": "code",
   "execution_count": 20,
   "id": "8e4ea6ba-bddd-48ea-a8dd-de2804d54e35",
   "metadata": {},
   "outputs": [],
   "source": [
    "x=(3*4)+5   #This a simple arithmetic expression to multiply then add integers"
   ]
  },
  {
   "cell_type": "code",
   "execution_count": 22,
   "id": "4f10aeff-68db-4bb0-9c9b-8b93bf51ca0f",
   "metadata": {},
   "outputs": [
    {
     "name": "stdout",
     "output_type": "stream",
     "text": [
      "17\n"
     ]
    }
   ],
   "source": [
    "print(x)"
   ]
  },
  {
   "cell_type": "code",
   "execution_count": 34,
   "id": "2a5ddca4-e060-430f-81a7-9f758affde5b",
   "metadata": {},
   "outputs": [
    {
     "name": "stdin",
     "output_type": "stream",
     "text": [
      "Input a value in minutes: 200\n"
     ]
    },
    {
     "name": "stdout",
     "output_type": "stream",
     "text": [
      "There are: 3.3333333333333335 hours\n"
     ]
    }
   ],
   "source": [
    "x=int(input(\"Input a value in minutes:\"))\n",
    "hours = x / 60\n",
    "print(\"There are:\",hours,\"hours\")"
   ]
  },
  {
   "cell_type": "markdown",
   "id": "ec2abbbb-9845-4306-9966-8396ef872026",
   "metadata": {},
   "source": [
    "## Author\n",
    "Jorge Almarza"
   ]
  },
  {
   "cell_type": "code",
   "execution_count": null,
   "id": "d2da662d-84e1-4101-9b8f-39b9d4d0cc88",
   "metadata": {},
   "outputs": [],
   "source": []
  }
 ],
 "metadata": {
  "kernelspec": {
   "display_name": "Python 3 (ipykernel)",
   "language": "python",
   "name": "python3"
  },
  "language_info": {
   "codemirror_mode": {
    "name": "ipython",
    "version": 3
   },
   "file_extension": ".py",
   "mimetype": "text/x-python",
   "name": "python",
   "nbconvert_exporter": "python",
   "pygments_lexer": "ipython3",
   "version": "3.12.4"
  }
 },
 "nbformat": 4,
 "nbformat_minor": 5
}
